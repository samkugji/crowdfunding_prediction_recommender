{
 "cells": [
  {
   "cell_type": "code",
   "execution_count": 1,
   "metadata": {
    "collapsed": true
   },
   "outputs": [],
   "source": [
    "import itertools\n",
    "import operator\n",
    "import gensim\n",
    "import konlpy\n",
    "import pandas as pd\n",
    "import scipy as sp \n",
    "from konlpy.tag import Kkma\n",
    "from sklearn.feature_extraction.text import CountVectorizer\n",
    "from sklearn.metrics import pairwise_distances"
   ]
  },
  {
   "cell_type": "code",
   "execution_count": 2,
   "metadata": {
    "collapsed": false
   },
   "outputs": [],
   "source": [
    "tb_df = pd.read_excel('tb_des_df.xlsx')"
   ]
  },
  {
   "cell_type": "code",
   "execution_count": 4,
   "metadata": {
    "collapsed": true
   },
   "outputs": [],
   "source": [
    "tb_users = pd.read_excel('tb_users_0410.xlsx')"
   ]
  },
  {
   "cell_type": "code",
   "execution_count": 14,
   "metadata": {
    "collapsed": true
   },
   "outputs": [],
   "source": [
    "# model_word (noun base) load\n",
    "model_word = gensim.models.Doc2Vec.load('model_word.model')"
   ]
  },
  {
   "cell_type": "code",
   "execution_count": 15,
   "metadata": {
    "collapsed": true
   },
   "outputs": [],
   "source": [
    "# model_sentence (sentence base) load\n",
    "model_sentence = gensim.models.Doc2Vec.load('model_sentence.model')"
   ]
  },
  {
   "cell_type": "code",
   "execution_count": 158,
   "metadata": {
    "collapsed": true
   },
   "outputs": [],
   "source": [
    "# model_doc load\n",
    "model_doc = gensim.models.Doc2Vec.load('doc_vec.model')"
   ]
  },
  {
   "cell_type": "code",
   "execution_count": 36,
   "metadata": {
    "collapsed": true
   },
   "outputs": [],
   "source": [
    "\"\"\" euclidean distance 구하기 \"\"\"\n",
    "def dist_cal(doc_model):\n",
    "    import scipy as sp \n",
    "    #vector bag 만들기\n",
    "    doc_vecs = []\n",
    "    dists = []\n",
    "    id_list = []\n",
    "    eu_dist = sp.spatial.distance.euclidean\n",
    "    for i in tb_df['id']:\n",
    "        vec = doc_model.infer_vector('{number}'.format(number=i))\n",
    "        id_list.append(i)\n",
    "        doc_vecs.append(vec)\n",
    "    # 거리 계산\n",
    "    for a, b in itertools.combinations(np.arange(len(doc_vecs)), 2):\n",
    "        dist = eu_dist(doc_vecs[a], doc_vecs[b])\n",
    "        dists.append((id_list[a], id_list[b], dist))\n",
    "    return dists"
   ]
  },
  {
   "cell_type": "code",
   "execution_count": 135,
   "metadata": {
    "collapsed": false
   },
   "outputs": [],
   "source": [
    "\"\"\"recommend list 출력\"\"\"\n",
    "def project_recommend(dist_df, number):\n",
    "    import pandas as pd\n",
    "    recommend_list = pd.DataFrame()\n",
    "    if number <= 2000:\n",
    "        recommend = dist_df.loc[dist_df[0] == number]\n",
    "        sorting = recommend.sort_values(by=[2], ascending = False)[:11]\n",
    "        sorting.index = np.arange(len(sorting))\n",
    "        sorting_df = sorting.drop([0], axis=1)\n",
    "        for i in sorting_df[1]:\n",
    "            pj = tb_df.loc[tb_df['id'] == i]\n",
    "            recommend_list = recommend_list.append(pj)\n",
    "        recommend_list.index = np.arange(len(recommend_list))\n",
    "        return recommend_list\n",
    "\n",
    "    else:\n",
    "        recommend = dist_df.loc[dist_df[1] == number]\n",
    "        sorting = recommend.sort_values(by=[2], ascending = False)[:11]\n",
    "        sorting.index = np.arange(len(sorting))\n",
    "        sorting_df = sorting.drop([1], axis=1)\n",
    "        for i in sorting_df[0]:\n",
    "            pj = tb_df.loc[tb_df['id'] == i]\n",
    "            recommend_list = recommend_list.append(pj)\n",
    "        recommend_list.index = np.arange(len(recommend_list))\n",
    "        return recommend_list"
   ]
  },
  {
   "cell_type": "code",
   "execution_count": 39,
   "metadata": {
    "collapsed": false
   },
   "outputs": [
    {
     "name": "stdout",
     "output_type": "stream",
     "text": [
      "93s\n"
     ]
    }
   ],
   "source": [
    "# distance 계산\n",
    "import time\n",
    "start = time.clock()\n",
    "\n",
    "sentence_df = pd.DataFrame(dist_cal(model_sentence))\n",
    "\n",
    "end = time.clock()\n",
    "print (\"%.2gs\" % (end-start))"
   ]
  },
  {
   "cell_type": "code",
   "execution_count": 40,
   "metadata": {
    "collapsed": false
   },
   "outputs": [
    {
     "name": "stdout",
     "output_type": "stream",
     "text": [
      "90s\n"
     ]
    }
   ],
   "source": [
    "import time\n",
    "start = time.clock()\n",
    "\n",
    "word_df = pd.Dat(dist_cal(model_word))\n",
    "\n",
    "end = time.clock()\n",
    "print (\"%.2gs\" % (end-start))"
   ]
  },
  {
   "cell_type": "code",
   "execution_count": 161,
   "metadata": {
    "collapsed": false
   },
   "outputs": [
    {
     "name": "stdout",
     "output_type": "stream",
     "text": [
      "1.2e+02s\n"
     ]
    }
   ],
   "source": [
    "import time\n",
    "start = time.clock()\n",
    "\n",
    "doc_df = pd.DataFrame(dist_cal(model_doc))\n",
    "\n",
    "end = time.clock()\n",
    "print (\"%.2gs\" % (end-start))"
   ]
  },
  {
   "cell_type": "code",
   "execution_count": 173,
   "metadata": {
    "collapsed": true
   },
   "outputs": [],
   "source": [
    "analyze = CountVectorizer(analyzer=\"word\").build_analyzer()\n",
    "sentences = []\n",
    "for i in des_df['description']:\n",
    "    words = analyze(i)\n",
    "    sentences.append(words)\n",
    "text_all=[]\n",
    "for i in np.arange(len(sentences)):\n",
    "    text = gensim.models.doc2vec.LabeledSentence(words = sentences[i], tags = ['doc_{number}'.format(number=i)])\n",
    "    text_all.append(text)"
   ]
  },
  {
   "cell_type": "code",
   "execution_count": 180,
   "metadata": {
    "collapsed": false,
    "scrolled": true
   },
   "outputs": [],
   "source": [
    "test = text_all[0][0]"
   ]
  },
  {
   "cell_type": "code",
   "execution_count": null,
   "metadata": {
    "collapsed": true
   },
   "outputs": [],
   "source": [
    "sentence_df = pd.DataFrame(model_sentence_dist)\n",
    "word_df = pd.DataFrame(model_word_dist)\n",
    "doc_df = pd.DataFrame(model_doc_df)"
   ]
  },
  {
   "cell_type": "code",
   "execution_count": 172,
   "metadata": {
    "collapsed": false,
    "scrolled": true
   },
   "outputs": [
    {
     "data": {
      "text/plain": [
       "[('드리겠습니다', 0.6059895157814026),\n",
       " (':-) * 감사의 마음을 담아 에필로그에 성함을 기재하고, 소중히 기억하겠습니다.', 0.4839726388454437),\n",
       " ('드리도록 하겠습니다.', 0.4824797213077545),\n",
       " ('- 3개월에 한번 씩 발행될 “ 룩” 의 다음 호를 즐겁게 기대할 수 있도록\\xa0 달력 엽서를 보내',\n",
       "  0.42651718854904175),\n",
       " ('잘 부탁 드립니다.', 0.4065120816230774),\n",
       " ('믿어 의심치 않습니다.', 0.38742968440055847),\n",
       " ('\\xa0 \\xa0 \\xa0', 0.36092567443847656),\n",
       " (\"1호 'UNIFORM' 을 드립니다.\", 0.3489863872528076),\n",
       " ('감사합니다', 0.34610283374786377),\n",
       " ('그렇습니다.', 0.33533862233161926)]"
      ]
     },
     "execution_count": 172,
     "metadata": {},
     "output_type": "execute_result"
    }
   ],
   "source": [
    "model_sentence_vec = model_sentence.infer_vector('12')\n",
    "model_sentence.most_similar([model_sentence_vec])"
   ]
  },
  {
   "cell_type": "code",
   "execution_count": 181,
   "metadata": {
    "collapsed": false,
    "scrolled": false
   },
   "outputs": [
    {
     "data": {
      "text/plain": [
       "[('김건희', 0.6032652854919434),\n",
       " ('폴라로이드', 0.5642544031143188),\n",
       " ('영성', 0.5179054141044617),\n",
       " ('쇼핑', 0.49117138981819153),\n",
       " ('건희', 0.486127108335495),\n",
       " ('1996년', 0.4750169813632965),\n",
       " ('수직적', 0.4695546329021454),\n",
       " ('잠실', 0.4674193561077118),\n",
       " ('티켓값', 0.4670153260231018),\n",
       " ('능가', 0.4648624062538147)]"
      ]
     },
     "execution_count": 181,
     "metadata": {},
     "output_type": "execute_result"
    }
   ],
   "source": [
    "model_word_vec = model_word.infer_vector(test)\n",
    "model_word.most_similar([model_word_vec])"
   ]
  },
  {
   "cell_type": "code",
   "execution_count": 188,
   "metadata": {
    "collapsed": false,
    "scrolled": false
   },
   "outputs": [
    {
     "data": {
      "text/plain": [
       "[('데코', 0.686865508556366),\n",
       " ('0호', 0.564838171005249),\n",
       " ('2000만원', 0.5607826709747314),\n",
       " ('약간의', 0.5553574562072754),\n",
       " ('코엑스', 0.5336793065071106),\n",
       " ('프란시스코', 0.5235170125961304),\n",
       " ('문화체육관광부', 0.5205384492874146),\n",
       " ('12', 0.5178917646408081),\n",
       " ('코코', 0.5138304829597473),\n",
       " ('18,000', 0.513398289680481)]"
      ]
     },
     "execution_count": 188,
     "metadata": {},
     "output_type": "execute_result"
    }
   ],
   "source": [
    "model_word_vec = model_word.infer_vector('doc_0')\n",
    "model_word.most_similar([model_word_vec])"
   ]
  },
  {
   "cell_type": "code",
   "execution_count": 185,
   "metadata": {
    "collapsed": false,
    "scrolled": true
   },
   "outputs": [
    {
     "data": {
      "text/plain": [
       "[('단가는', 0.20936812460422516),\n",
       " ('분도', 0.2060094028711319),\n",
       " ('완료한', 0.19825929403305054),\n",
       " ('디자인했습니다', 0.19739557802677155),\n",
       " ('창작자간의', 0.1958780735731125),\n",
       " ('공모전', 0.19517935812473297),\n",
       " ('약간의', 0.19355371594429016),\n",
       " ('환상의', 0.19325032830238342),\n",
       " ('않았어요', 0.1880558729171753),\n",
       " ('튼튼하게', 0.1872541457414627)]"
      ]
     },
     "execution_count": 185,
     "metadata": {},
     "output_type": "execute_result"
    }
   ],
   "source": [
    "model_doc_vec = model_doc.infer_vector('12')\n",
    "model_doc.most_similar([model_doc_vec])"
   ]
  },
  {
   "cell_type": "code",
   "execution_count": 141,
   "metadata": {
    "collapsed": false,
    "scrolled": true
   },
   "outputs": [
    {
     "data": {
      "text/plain": [
       "3282"
      ]
     },
     "execution_count": 141,
     "metadata": {},
     "output_type": "execute_result"
    }
   ],
   "source": [
    "tb_df.ix[2000]['id']"
   ]
  },
  {
   "cell_type": "code",
   "execution_count": 151,
   "metadata": {
    "collapsed": false,
    "scrolled": true
   },
   "outputs": [
    {
     "data": {
      "text/plain": [
       "0          극영화\n",
       "1           웹툰\n",
       "2           게임\n",
       "3     공개 소프트웨어\n",
       "4           사진\n",
       "5           웹툰\n",
       "6         공공예술\n",
       "7           연극\n",
       "8         혼합매체\n",
       "9           요리\n",
       "10        저널리즘\n",
       "Name: category, dtype: object"
      ]
     },
     "execution_count": 151,
     "metadata": {},
     "output_type": "execute_result"
    }
   ],
   "source": [
    "project_recommend(word_df, 4177)['category']"
   ]
  },
  {
   "cell_type": "code",
   "execution_count": 154,
   "metadata": {
    "collapsed": false
   },
   "outputs": [
    {
     "data": {
      "text/plain": [
       "(4177, '출판')"
      ]
     },
     "execution_count": 154,
     "metadata": {},
     "output_type": "execute_result"
    }
   ],
   "source": [
    "tb_df.ix[2500]['id'], tb_df.ix[2500]['category']"
   ]
  },
  {
   "cell_type": "code",
   "execution_count": 156,
   "metadata": {
    "collapsed": false
   },
   "outputs": [
    {
     "data": {
      "text/plain": [
       "0     일러스트레이션\n",
       "1       비디오게임\n",
       "2         논픽션\n",
       "3       다큐멘터리\n",
       "4          연극\n",
       "5         디자인\n",
       "6          음악\n",
       "7          사진\n",
       "8          음악\n",
       "9          웹툰\n",
       "10         웹툰\n",
       "Name: category, dtype: object"
      ]
     },
     "execution_count": 156,
     "metadata": {},
     "output_type": "execute_result"
    }
   ],
   "source": [
    "project_recommend(sentence_df, 4177)['category']"
   ]
  },
  {
   "cell_type": "code",
   "execution_count": null,
   "metadata": {
    "collapsed": true
   },
   "outputs": [],
   "source": []
  }
 ],
 "metadata": {
  "kernelspec": {
   "display_name": "Python 3",
   "language": "python",
   "name": "python3"
  },
  "language_info": {
   "codemirror_mode": {
    "name": "ipython",
    "version": 3
   },
   "file_extension": ".py",
   "mimetype": "text/x-python",
   "name": "python",
   "nbconvert_exporter": "python",
   "pygments_lexer": "ipython3",
   "version": "3.5.1"
  }
 },
 "nbformat": 4,
 "nbformat_minor": 0
}
