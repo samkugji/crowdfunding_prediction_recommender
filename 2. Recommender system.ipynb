{
 "cells": [
  {
   "cell_type": "code",
   "execution_count": 1,
   "metadata": {
    "collapsed": true
   },
   "outputs": [],
   "source": [
    "import itertools\n",
    "import operator\n",
    "import gensim\n",
    "import konlpy\n",
    "import pickle\n",
    "import pandas as pd\n",
    "import scipy as sp \n",
    "import numpy as np\n",
    "from konlpy.tag import Kkma\n",
    "from sklearn.feature_extraction.text import CountVectorizer\n",
    "from sklearn.metrics import pairwise_distances"
   ]
  },
  {
   "cell_type": "markdown",
   "metadata": {},
   "source": [
    "# Crowd Funding Recommender system"
   ]
  },
  {
   "cell_type": "markdown",
   "metadata": {},
   "source": [
    "## Idea\n",
    "- For new crowd funding projects, there are no such classificable factors with old projects (I suppose category is not a key factor)\n",
    "- Users are only interested in a project itself (Funding target money, duration, etc are non of their business)\n",
    "- Doc2vec is a quite logical method to classify documents\n",
    "- Classifying descriptions of projects by using Doc2vec -> Recommending 10 nearest projects with a project users clicked or supported"
   ]
  },
  {
   "cell_type": "markdown",
   "metadata": {},
   "source": [
    "## Outline\n",
    "- Tokenizing description\n",
    "- Run Doc2vec\n",
    "- Calculate distance of each project combinations\n",
    "- Recommend"
   ]
  },
  {
   "cell_type": "code",
   "execution_count": 2,
   "metadata": {
    "collapsed": false
   },
   "outputs": [],
   "source": [
    "cf_df = pd.read_excel('cf_description.xlsx')"
   ]
  },
  {
   "cell_type": "markdown",
   "metadata": {},
   "source": [
    "## 1. Tokenization"
   ]
  },
  {
   "cell_type": "code",
   "execution_count": 3,
   "metadata": {
    "collapsed": true
   },
   "outputs": [],
   "source": [
    "# Select morphemes\n",
    "feature_pos = ('NNP', 'NNG', 'NNB', 'NP', 'VV', 'VA', 'MAG')"
   ]
  },
  {
   "cell_type": "code",
   "execution_count": null,
   "metadata": {
    "collapsed": false
   },
   "outputs": [],
   "source": [
    "# wrapper\n",
    "kkma = Kkma()"
   ]
  },
  {
   "cell_type": "code",
   "execution_count": null,
   "metadata": {
    "collapsed": false,
    "scrolled": true
   },
   "outputs": [],
   "source": [
    "tags = []\n",
    "kon_words = []\n",
    "kon_words_tags = []\n",
    "# tokenization \n",
    "for i in cf_df['description'][0]:\n",
    "    kon_word = kkma.pos(i)\n",
    "    kon_words.append(kon_word)\n",
    "\n",
    "# morphemes\n",
    "des_token =[]\n",
    "for i in range(0, len(kon_words)):\n",
    "    tokens = []\n",
    "    for j in range(0, len(kon_words[i])):\n",
    "        if kon_words[i][j][1] in feature_pos:\n",
    "            tokens.append(kon_words[i][j][0])\n",
    "    des_token.append(tokens)"
   ]
  },
  {
   "cell_type": "code",
   "execution_count": null,
   "metadata": {
    "collapsed": true
   },
   "outputs": [],
   "source": [
    "# transform requirements of doc2vec (words=[], tags=[])\n",
    "kon_token_tags=[]\n",
    "for i in np.arange(len(kon_words)):\n",
    "    kon_token_tag = gensim.models.doc2vec.LabeledSentence(words = des_token[i], tags = [tb_df['id'][i]])\n",
    "    kon_token_tags.append(kon_token_tag)"
   ]
  },
  {
   "cell_type": "code",
   "execution_count": null,
   "metadata": {
    "collapsed": true
   },
   "outputs": [],
   "source": [
    "#token data save\n",
    "output = open('des_token.pkl', 'wb')\n",
    "pickle.dump(des_token, output)\n",
    "output.close()"
   ]
  },
  {
   "cell_type": "code",
   "execution_count": 4,
   "metadata": {
    "collapsed": false
   },
   "outputs": [],
   "source": [
    "#token data load\n",
    "pkl_file = open('des_token.pkl', 'rb')\n",
    "des_token = pickle.load(pkl_file)\n",
    "pkl_file.close() "
   ]
  },
  {
   "cell_type": "code",
   "execution_count": null,
   "metadata": {
    "collapsed": true
   },
   "outputs": [],
   "source": [
    "# token_tags data save\n",
    "output = open('kon_token_tags.pkl', 'wb')\n",
    "pickle.dump(kon_token_tags, output)\n",
    "output.close()"
   ]
  },
  {
   "cell_type": "code",
   "execution_count": 5,
   "metadata": {
    "collapsed": true
   },
   "outputs": [],
   "source": [
    "# token_tags data load\n",
    "pkl_file = open('kon_token_tags.pkl', 'rb')\n",
    "kon_token_tags = pickle.load(pkl_file)\n",
    "pkl_file.close() "
   ]
  },
  {
   "cell_type": "markdown",
   "metadata": {},
   "source": [
    "## 2. Modeling"
   ]
  },
  {
   "cell_type": "code",
   "execution_count": null,
   "metadata": {
    "collapsed": false
   },
   "outputs": [],
   "source": [
    "# doc2vec modeling with tokens\n",
    "cf_doc2vec_model = gensim.models.Doc2Vec(kon_token_tags, size = 200)"
   ]
  },
  {
   "cell_type": "code",
   "execution_count": null,
   "metadata": {
    "collapsed": true
   },
   "outputs": [],
   "source": [
    "# doc2vec model save (based on konply tokenizer)\n",
    "cf_doc2vec_model.save('cf_doc2vec_model.model')"
   ]
  },
  {
   "cell_type": "code",
   "execution_count": 6,
   "metadata": {
    "collapsed": true
   },
   "outputs": [],
   "source": [
    "# doc2vec model load (based on konply tokenizer)\n",
    "cf_doc2vec_model = gensim.models.Doc2Vec.load('cf_doc2vec_model.model')"
   ]
  },
  {
   "cell_type": "code",
   "execution_count": 7,
   "metadata": {
    "collapsed": false
   },
   "outputs": [
    {
     "data": {
      "text/plain": [
       "[('엄마', 0.5895010828971863),\n",
       " ('친정', 0.5588467717170715),\n",
       " ('아들', 0.5584404468536377),\n",
       " ('딸', 0.5243527889251709),\n",
       " ('아버지', 0.4882364869117737),\n",
       " ('외할머니', 0.42500039935112),\n",
       " ('자궁', 0.41624367237091064),\n",
       " ('태어나', 0.4159505069255829),\n",
       " ('낳', 0.4154467284679413),\n",
       " ('이혼', 0.41179195046424866)]"
      ]
     },
     "execution_count": 7,
     "metadata": {},
     "output_type": "execute_result"
    }
   ],
   "source": [
    "#Find the top-10 most similar words\n",
    "cf_doc2vec_model.most_similar(['아빠'])"
   ]
  },
  {
   "cell_type": "code",
   "execution_count": 8,
   "metadata": {
    "collapsed": false
   },
   "outputs": [
    {
     "data": {
      "text/plain": [
       "[('양이', 0.5124284625053406),\n",
       " ('강아지', 0.4784420132637024),\n",
       " ('걷', 0.4729624092578888),\n",
       " ('고양', 0.43611475825309753),\n",
       " ('돌담', 0.42387479543685913),\n",
       " ('마리', 0.4180302023887634),\n",
       " ('걸어가', 0.3968590199947357),\n",
       " ('섬', 0.39492911100387573),\n",
       " ('하얗', 0.38870635628700256),\n",
       " ('커플', 0.3782443404197693)]"
      ]
     },
     "execution_count": 8,
     "metadata": {},
     "output_type": "execute_result"
    }
   ],
   "source": [
    "#Find the top-10 most similar words\n",
    "cf_doc2vec_model.most_similar(['고양이'])"
   ]
  },
  {
   "cell_type": "markdown",
   "metadata": {},
   "source": [
    "- looks like each word has relationship"
   ]
  },
  {
   "cell_type": "markdown",
   "metadata": {},
   "source": [
    "## 3. Caculate distance\n",
    "- Use cosine distance (https://en.wikipedia.org/wiki/Cosine_similarity)\n",
    "- In this case, cosine distance seems like better option than euclidean distance, because some words would be over-weighted\n",
    "![cosine_distance](cosine.png)"
   ]
  },
  {
   "cell_type": "code",
   "execution_count": 9,
   "metadata": {
    "collapsed": true
   },
   "outputs": [],
   "source": [
    "\"\"\" cosine distance \"\"\"\n",
    "def cos_dist_cal(doc_model):\n",
    "    import scipy as sp \n",
    "    # make vector bag\n",
    "    doc_vecs = []\n",
    "    dists = []\n",
    "    id_list = []\n",
    "    eu_dist = sp.spatial.distance.cosine\n",
    "    for i in np.arange(len(kon_token_tags)):\n",
    "        vec = doc_model.infer_vector(kon_token_tags[i][0])\n",
    "        ids = kon_token_tags[i][1][0]\n",
    "        id_list.append(ids)\n",
    "        doc_vecs.append(vec)\n",
    "    # caculate distance\n",
    "    for a, b in itertools.combinations(np.arange(len(doc_vecs)), 2):\n",
    "        dist = eu_dist(doc_vecs[a], doc_vecs[b])\n",
    "        dists.append((id_list[a], id_list[b], dist))\n",
    "    return dists"
   ]
  },
  {
   "cell_type": "code",
   "execution_count": 10,
   "metadata": {
    "collapsed": false
   },
   "outputs": [],
   "source": [
    "cos_token_df = pd.DataFrame(cos_dist_cal(cf_doc2vec_model))"
   ]
  },
  {
   "cell_type": "markdown",
   "metadata": {},
   "source": [
    "## 4. Recommend projects"
   ]
  },
  {
   "cell_type": "markdown",
   "metadata": {},
   "source": [
    "- recommend 11 nearest projects"
   ]
  },
  {
   "cell_type": "code",
   "execution_count": 11,
   "metadata": {
    "collapsed": false
   },
   "outputs": [],
   "source": [
    "\"\"\"recommend project list\"\"\"\n",
    "def project_recommend(dist_df, number):\n",
    "    import pandas as pd\n",
    "    recommend_list = pd.DataFrame()\n",
    "    if number <= 2000:\n",
    "        recommend = dist_df.loc[dist_df[0] == number]\n",
    "        sorting = recommend.sort_values(by=[2], ascending = False)[:11]\n",
    "        sorting.index = np.arange(len(sorting))\n",
    "        for i in sorting[1]:\n",
    "            pj = cf_df.loc[cf_df['id'] == i]\n",
    "            recommend_list = recommend_list.append(pj)\n",
    "        recommend_list.index = np.arange(len(recommend_list))\n",
    "        return recommend_list\n",
    "\n",
    "    else:\n",
    "        recommend = dist_df.loc[dist_df[1] == number]\n",
    "        sorting = recommend.sort_values(by=[2], ascending = False)[:11]\n",
    "        sorting.index = np.arange(len(sorting))\n",
    "        for i in sorting[0]:\n",
    "            pj = cf_df.loc[cf_df['id'] == i]\n",
    "            recommend_list = recommend_list.append(pj)\n",
    "        recommend_list.index = np.arange(len(recommend_list))\n",
    "        return recommend_list"
   ]
  },
  {
   "cell_type": "markdown",
   "metadata": {},
   "source": [
    "- project_recommend(distance_dataframe, project_id)"
   ]
  },
  {
   "cell_type": "code",
   "execution_count": 12,
   "metadata": {
    "collapsed": false,
    "scrolled": true
   },
   "outputs": [
    {
     "data": {
      "text/html": [
       "<div>\n",
       "<table border=\"1\" class=\"dataframe\">\n",
       "  <thead>\n",
       "    <tr style=\"text-align: right;\">\n",
       "      <th></th>\n",
       "      <th>id</th>\n",
       "      <th>blurb</th>\n",
       "      <th>title</th>\n",
       "      <th>category</th>\n",
       "      <th>end_with_success</th>\n",
       "      <th>has_video</th>\n",
       "      <th>permalink</th>\n",
       "      <th>description</th>\n",
       "    </tr>\n",
       "  </thead>\n",
       "  <tbody>\n",
       "    <tr>\n",
       "      <th>729</th>\n",
       "      <td>1152</td>\n",
       "      <td>9월 9일은 고양이의 날! 세계 19개국 고양이의 다채로운 삶을 사진으로 전하는 제...</td>\n",
       "      <td>제5회 '고양이의 날' 기획전</td>\n",
       "      <td>사진</td>\n",
       "      <td>True</td>\n",
       "      <td>True</td>\n",
       "      <td>/catday</td>\n",
       "      <td>\\n▶제5회 고양이의 날 기획전- '고양이를 여행하다'11년간 길고양이 이야기를 사...</td>\n",
       "    </tr>\n",
       "  </tbody>\n",
       "</table>\n",
       "</div>"
      ],
      "text/plain": [
       "       id                                              blurb  \\\n",
       "729  1152  9월 9일은 고양이의 날! 세계 19개국 고양이의 다채로운 삶을 사진으로 전하는 제...   \n",
       "\n",
       "                 title category end_with_success has_video permalink  \\\n",
       "729  제5회 '고양이의 날' 기획전        사진             True      True   /catday   \n",
       "\n",
       "                                           description  \n",
       "729  \\n▶제5회 고양이의 날 기획전- '고양이를 여행하다'11년간 길고양이 이야기를 사...  "
      ]
     },
     "execution_count": 12,
     "metadata": {},
     "output_type": "execute_result"
    }
   ],
   "source": [
    "cf_df[cf_df['id'] == 1152]"
   ]
  },
  {
   "cell_type": "code",
   "execution_count": 13,
   "metadata": {
    "collapsed": false
   },
   "outputs": [
    {
     "data": {
      "text/html": [
       "<div>\n",
       "<table border=\"1\" class=\"dataframe\">\n",
       "  <thead>\n",
       "    <tr style=\"text-align: right;\">\n",
       "      <th></th>\n",
       "      <th>id</th>\n",
       "      <th>blurb</th>\n",
       "      <th>title</th>\n",
       "      <th>category</th>\n",
       "      <th>end_with_success</th>\n",
       "      <th>has_video</th>\n",
       "      <th>permalink</th>\n",
       "      <th>description</th>\n",
       "    </tr>\n",
       "  </thead>\n",
       "  <tbody>\n",
       "    <tr>\n",
       "      <th>0</th>\n",
       "      <td>3447</td>\n",
       "      <td>없는 살림에 딸라빚 내고 주변에 손 내밀어 다녀온 여행, 혼자만 즐기기 미안해 책으...</td>\n",
       "      <td>&lt;개한테 미안한 여행 이야기&gt; 발행인이 되어주세요</td>\n",
       "      <td>논픽션</td>\n",
       "      <td>True</td>\n",
       "      <td>True</td>\n",
       "      <td>/sorrydog</td>\n",
       "      <td>\\n2011년 6월 불현듯 성북동 어느 골목에 생뚱맞게 카페를 열었고 2015년 1...</td>\n",
       "    </tr>\n",
       "    <tr>\n",
       "      <th>1</th>\n",
       "      <td>1154</td>\n",
       "      <td>고3 인문계 학생이 제작중인  국산 인디게임  SCP-Unidentified 심심하...</td>\n",
       "      <td>(3D) SCP-Unidentified</td>\n",
       "      <td>게임</td>\n",
       "      <td>False</td>\n",
       "      <td>True</td>\n",
       "      <td>/12skingdom</td>\n",
       "      <td>\\n우선 제 소개에 앞서  저는 아직 미성년자이기에 법정대리인인 제 부모님 이름으로...</td>\n",
       "    </tr>\n",
       "    <tr>\n",
       "      <th>2</th>\n",
       "      <td>3412</td>\n",
       "      <td>인디게임 개발팀 스튜디오Lettuce의 첫번째 프로젝트! 보드게임 HexaTale입니다.</td>\n",
       "      <td>보드게임 HexaTale! :: ST.Lettuce</td>\n",
       "      <td>보드게임</td>\n",
       "      <td>False</td>\n",
       "      <td>False</td>\n",
       "      <td>/hexatale</td>\n",
       "      <td>\\n\\n\\n팀 소개\\n\\n\\n\\n  안녕하십니까, 인디게임 개발팀 Studio.Le...</td>\n",
       "    </tr>\n",
       "    <tr>\n",
       "      <th>3</th>\n",
       "      <td>3253</td>\n",
       "      <td>한중일 동북아 3개국이 각국의 작품을 교류하는 제22회 베세토 연극제 축제기금 마련...</td>\n",
       "      <td>제 22회 베세토 페스티벌</td>\n",
       "      <td>연극</td>\n",
       "      <td>False</td>\n",
       "      <td>False</td>\n",
       "      <td>/2015beseto</td>\n",
       "      <td>\\n베세토 페스티벌이란 무엇인가요? \\n2015년 22회를 맞이한 베세토 연극제는 ...</td>\n",
       "    </tr>\n",
       "    <tr>\n",
       "      <th>4</th>\n",
       "      <td>2212</td>\n",
       "      <td>슬픔을 느끼기엔 너무나 짧았던 49일.</td>\n",
       "      <td>단편영화 &lt;49재&gt; 후반작업</td>\n",
       "      <td>영화 ∙ 비디오</td>\n",
       "      <td>True</td>\n",
       "      <td>True</td>\n",
       "      <td>/49thday</td>\n",
       "      <td>\\nAbout 49재\\n49재는 불교를 믿고 있거나, 또는 불교에 가까운 사람들에게...</td>\n",
       "    </tr>\n",
       "    <tr>\n",
       "      <th>5</th>\n",
       "      <td>2499</td>\n",
       "      <td>충전할 때는 플러그 홀더로! \\r\\r\\n평소에는 충전기 파우치로!\\r\\r\\n스마트폰...</td>\n",
       "      <td>풀려라, 스마트폰 피로!</td>\n",
       "      <td>제품디자인</td>\n",
       "      <td>True</td>\n",
       "      <td>False</td>\n",
       "      <td>/mandlja_holder</td>\n",
       "      <td>\\n \\n\\n \\n \\n \\nProduct begins.\\n\\n나와 가장 일찍 만나...</td>\n",
       "    </tr>\n",
       "    <tr>\n",
       "      <th>6</th>\n",
       "      <td>3219</td>\n",
       "      <td>아내가 요리하다 손 베어서 고통스러워 하는 걸 보고 손 안베이는 칼을 만들어주겠다고...</td>\n",
       "      <td>안전한 칼</td>\n",
       "      <td>제품디자인</td>\n",
       "      <td>False</td>\n",
       "      <td>False</td>\n",
       "      <td>/safeknife</td>\n",
       "      <td>\\n작업자 소개 \\n안녕하세요? 홍영운입니다. 발명하는거 좋아하는 평범한 사람입니다...</td>\n",
       "    </tr>\n",
       "    <tr>\n",
       "      <th>7</th>\n",
       "      <td>1507</td>\n",
       "      <td>예술을 지향하는 간절한 20대 젊은이들의 첫 번째 프로젝트, 단편영화 &lt;I AM&gt;의...</td>\n",
       "      <td>감성돔 첫 번째 단편영화 &lt;I AM&gt;</td>\n",
       "      <td>단편영화</td>\n",
       "      <td>True</td>\n",
       "      <td>True</td>\n",
       "      <td>/kamsungdome_01</td>\n",
       "      <td>\\n\\n\\n*단편 영화 &lt;I AM&gt;\\n*러닝타임 10분\\n*장르-휴먼,드라마,코미디...</td>\n",
       "    </tr>\n",
       "    <tr>\n",
       "      <th>8</th>\n",
       "      <td>2661</td>\n",
       "      <td>달콤한 로맨스 판타지, 에린지움&amp;라넌큘러스가, 종이책으로 여러분을 찾아갑니다.</td>\n",
       "      <td>&lt;에린지움&amp;라넌큘러스&gt; 종이책 출판</td>\n",
       "      <td>소설</td>\n",
       "      <td>False</td>\n",
       "      <td>False</td>\n",
       "      <td>/oz004</td>\n",
       "      <td>\\n* 정식 종이책 출간에 대한 설명과 내지 종이인 이라이트지에 대한 설명이 추가되...</td>\n",
       "    </tr>\n",
       "    <tr>\n",
       "      <th>9</th>\n",
       "      <td>1871</td>\n",
       "      <td>아티스트 WANGTHEK(왕덕)의 국보판다(我乃國寶)  캐릭터 라이센싱 프로젝트 첫...</td>\n",
       "      <td>왕덕 국보판다 부채 제작</td>\n",
       "      <td>제품디자인</td>\n",
       "      <td>False</td>\n",
       "      <td>False</td>\n",
       "      <td>/wangthek</td>\n",
       "      <td>\\n아티스트 소개:\\n안녕하세요, 현재 일러스트레이트&amp;작가로 활동 중은 왕덕(WAN...</td>\n",
       "    </tr>\n",
       "    <tr>\n",
       "      <th>10</th>\n",
       "      <td>1814</td>\n",
       "      <td>중앙대학교 신문방송학부 극단 또아리 제 62회 정기공연</td>\n",
       "      <td>또아리 제 62회 정기공연</td>\n",
       "      <td>연극</td>\n",
       "      <td>False</td>\n",
       "      <td>True</td>\n",
       "      <td>/ddoarl_62</td>\n",
       "      <td>\\n\\n여러분이 몰랐던 무대 뒤,  \\n시끄럽고 정신없는 극단 또아리의 이야기!\\n...</td>\n",
       "    </tr>\n",
       "  </tbody>\n",
       "</table>\n",
       "</div>"
      ],
      "text/plain": [
       "      id                                              blurb  \\\n",
       "0   3447  없는 살림에 딸라빚 내고 주변에 손 내밀어 다녀온 여행, 혼자만 즐기기 미안해 책으...   \n",
       "1   1154  고3 인문계 학생이 제작중인  국산 인디게임  SCP-Unidentified 심심하...   \n",
       "2   3412  인디게임 개발팀 스튜디오Lettuce의 첫번째 프로젝트! 보드게임 HexaTale입니다.   \n",
       "3   3253  한중일 동북아 3개국이 각국의 작품을 교류하는 제22회 베세토 연극제 축제기금 마련...   \n",
       "4   2212                              슬픔을 느끼기엔 너무나 짧았던 49일.   \n",
       "5   2499  충전할 때는 플러그 홀더로! \\r\\r\\n평소에는 충전기 파우치로!\\r\\r\\n스마트폰...   \n",
       "6   3219  아내가 요리하다 손 베어서 고통스러워 하는 걸 보고 손 안베이는 칼을 만들어주겠다고...   \n",
       "7   1507  예술을 지향하는 간절한 20대 젊은이들의 첫 번째 프로젝트, 단편영화 <I AM>의...   \n",
       "8   2661        달콤한 로맨스 판타지, 에린지움&라넌큘러스가, 종이책으로 여러분을 찾아갑니다.   \n",
       "9   1871  아티스트 WANGTHEK(왕덕)의 국보판다(我乃國寶)  캐릭터 라이센싱 프로젝트 첫...   \n",
       "10  1814                     중앙대학교 신문방송학부 극단 또아리 제 62회 정기공연   \n",
       "\n",
       "                           title  category end_with_success has_video  \\\n",
       "0    <개한테 미안한 여행 이야기> 발행인이 되어주세요       논픽션             True      True   \n",
       "1          (3D) SCP-Unidentified        게임            False      True   \n",
       "2   보드게임 HexaTale! :: ST.Lettuce      보드게임            False     False   \n",
       "3                 제 22회 베세토 페스티벌        연극            False     False   \n",
       "4                단편영화 <49재> 후반작업  영화 ∙ 비디오             True      True   \n",
       "5                  풀려라, 스마트폰 피로!     제품디자인             True     False   \n",
       "6                         안전한 칼      제품디자인            False     False   \n",
       "7           감성돔 첫 번째 단편영화 <I AM>      단편영화             True      True   \n",
       "8            <에린지움&라넌큘러스> 종이책 출판        소설            False     False   \n",
       "9                  왕덕 국보판다 부채 제작     제품디자인            False     False   \n",
       "10               또아리 제 62회 정기공연         연극            False      True   \n",
       "\n",
       "          permalink                                        description  \n",
       "0         /sorrydog  \\n2011년 6월 불현듯 성북동 어느 골목에 생뚱맞게 카페를 열었고 2015년 1...  \n",
       "1       /12skingdom  \\n우선 제 소개에 앞서  저는 아직 미성년자이기에 법정대리인인 제 부모님 이름으로...  \n",
       "2         /hexatale  \\n\\n\\n팀 소개\\n\\n\\n\\n  안녕하십니까, 인디게임 개발팀 Studio.Le...  \n",
       "3       /2015beseto  \\n베세토 페스티벌이란 무엇인가요? \\n2015년 22회를 맞이한 베세토 연극제는 ...  \n",
       "4          /49thday  \\nAbout 49재\\n49재는 불교를 믿고 있거나, 또는 불교에 가까운 사람들에게...  \n",
       "5   /mandlja_holder  \\n \\n\\n \\n \\n \\nProduct begins.\\n\\n나와 가장 일찍 만나...  \n",
       "6        /safeknife  \\n작업자 소개 \\n안녕하세요? 홍영운입니다. 발명하는거 좋아하는 평범한 사람입니다...  \n",
       "7   /kamsungdome_01  \\n\\n\\n*단편 영화 <I AM>\\n*러닝타임 10분\\n*장르-휴먼,드라마,코미디...  \n",
       "8            /oz004  \\n* 정식 종이책 출간에 대한 설명과 내지 종이인 이라이트지에 대한 설명이 추가되...  \n",
       "9         /wangthek  \\n아티스트 소개:\\n안녕하세요, 현재 일러스트레이트&작가로 활동 중은 왕덕(WAN...  \n",
       "10       /ddoarl_62  \\n\\n여러분이 몰랐던 무대 뒤,  \\n시끄럽고 정신없는 극단 또아리의 이야기!\\n...  "
      ]
     },
     "execution_count": 13,
     "metadata": {},
     "output_type": "execute_result"
    }
   ],
   "source": [
    "project_recommend(cos_token_df, 1152)"
   ]
  },
  {
   "cell_type": "code",
   "execution_count": null,
   "metadata": {
    "collapsed": true
   },
   "outputs": [],
   "source": []
  }
 ],
 "metadata": {
  "kernelspec": {
   "display_name": "Python 3",
   "language": "python",
   "name": "python3"
  },
  "language_info": {
   "codemirror_mode": {
    "name": "ipython",
    "version": 3
   },
   "file_extension": ".py",
   "mimetype": "text/x-python",
   "name": "python",
   "nbconvert_exporter": "python",
   "pygments_lexer": "ipython3",
   "version": "3.5.1"
  }
 },
 "nbformat": 4,
 "nbformat_minor": 0
}
