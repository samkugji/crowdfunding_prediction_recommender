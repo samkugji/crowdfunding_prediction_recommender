{
 "cells": [
  {
   "cell_type": "code",
   "execution_count": 1,
   "metadata": {
    "collapsed": true
   },
   "outputs": [],
   "source": [
    "import itertools\n",
    "import operator\n",
    "import gensim\n",
    "import konlpy\n",
    "import pickle\n",
    "import pandas as pd\n",
    "import scipy as sp \n",
    "from konlpy.tag import Kkma\n",
    "from sklearn.feature_extraction.text import CountVectorizer\n",
    "from sklearn.metrics import pairwise_distances"
   ]
  },
  {
   "cell_type": "markdown",
   "metadata": {},
   "source": [
    "# Crowd Funding Recommender system"
   ]
  },
  {
   "cell_type": "markdown",
   "metadata": {},
   "source": [
    "## Idea\n",
    "- For new crowd funding projects, there are no such classificable factors with old projects (I suppose category is not a key factor)\n",
    "- Users are only interested in a project itself (Funding target money, duration, etc are non of their business)\n",
    "- Doc2vec is a quite logical method to classify documents\n",
    "- Classifying descriptions of projects by using Doc2vec -> Recommending 10 nearest projects with a project users clicked or supported"
   ]
  },
  {
   "cell_type": "markdown",
   "metadata": {},
   "source": [
    "## Outline\n",
    "- Tokenizing description\n",
    "- Run Doc2vec\n",
    "- Calculate distance of each project combinations\n",
    "- Recommend"
   ]
  },
  {
   "cell_type": "code",
   "execution_count": 2,
   "metadata": {
    "collapsed": false
   },
   "outputs": [],
   "source": [
    "cf_df = pd.read_excel('cf_description.xlsx')"
   ]
  },
  {
   "cell_type": "markdown",
   "metadata": {},
   "source": [
    "## 1. Tokenization"
   ]
  },
  {
   "cell_type": "code",
   "execution_count": 3,
   "metadata": {
    "collapsed": true
   },
   "outputs": [],
   "source": [
    "# Select morphemes\n",
    "feature_pos = ('NNP', 'NNG', 'NNB', 'NP', 'VV', 'VA', 'MAG')"
   ]
  },
  {
   "cell_type": "code",
   "execution_count": 4,
   "metadata": {
    "collapsed": false
   },
   "outputs": [],
   "source": [
    "# wrapper\n",
    "kkma = Kkma()"
   ]
  },
  {
   "cell_type": "code",
   "execution_count": null,
   "metadata": {
    "collapsed": false,
    "scrolled": true
   },
   "outputs": [],
   "source": [
    "tags = []\n",
    "kon_words = []\n",
    "kon_words_tags = []\n",
    "# tokenization \n",
    "for i in cf_df['description'][0]:\n",
    "    kon_word = kkma.pos(i)\n",
    "    kon_words.append(kon_word)\n",
    "\n",
    "# morphemes\n",
    "des_token =[]\n",
    "for i in range(0, len(kon_words)):\n",
    "    tokens = []\n",
    "    for j in range(0, len(kon_words[i])):\n",
    "        if kon_words[i][j][1] in feature_pos:\n",
    "            tokens.append(kon_words[i][j][0])\n",
    "    des_token.append(tokens)"
   ]
  },
  {
   "cell_type": "code",
   "execution_count": null,
   "metadata": {
    "collapsed": true
   },
   "outputs": [],
   "source": [
    "# transform requirements of doc2vec (words=[], tags=[])\n",
    "kon_token_tags=[]\n",
    "for i in np.arange(len(kon_words)):\n",
    "    kon_token_tag = gensim.models.doc2vec.LabeledSentence(words = des_token[i], tags = [tb_df['id'][i]])\n",
    "    kon_token_tags.append(kon_token_tag)"
   ]
  },
  {
   "cell_type": "code",
   "execution_count": null,
   "metadata": {
    "collapsed": true
   },
   "outputs": [],
   "source": [
    "#token data save\n",
    "output = open('des_token.pkl', 'wb')\n",
    "pickle.dump(des_token, output)\n",
    "output.close()"
   ]
  },
  {
   "cell_type": "code",
   "execution_count": 5,
   "metadata": {
    "collapsed": false
   },
   "outputs": [],
   "source": [
    "#token data load\n",
    "pkl_file = open('des_token.pkl', 'rb')\n",
    "des_token = pickle.load(pkl_file)\n",
    "pkl_file.close() "
   ]
  },
  {
   "cell_type": "code",
   "execution_count": null,
   "metadata": {
    "collapsed": true
   },
   "outputs": [],
   "source": [
    "# token_tags data save\n",
    "output = open('kon_token_tags.pkl', 'wb')\n",
    "pickle.dump(kon_token_tags, output)\n",
    "output.close()"
   ]
  },
  {
   "cell_type": "code",
   "execution_count": 6,
   "metadata": {
    "collapsed": true
   },
   "outputs": [],
   "source": [
    "# token_tags data load\n",
    "pkl_file = open('kon_token_tags.pkl', 'rb')\n",
    "kon_token_tags = pickle.load(pkl_file)\n",
    "pkl_file.close() "
   ]
  },
  {
   "cell_type": "markdown",
   "metadata": {},
   "source": [
    "## 2. Modeling"
   ]
  },
  {
   "cell_type": "code",
   "execution_count": null,
   "metadata": {
    "collapsed": true
   },
   "outputs": [],
   "source": [
    "# doc2vec modeling with tokens\n",
    "cf_doc2vec_model = gensim.models.Doc2Vec(kon_token_tags, size = 200)"
   ]
  },
  {
   "cell_type": "code",
   "execution_count": null,
   "metadata": {
    "collapsed": true
   },
   "outputs": [],
   "source": [
    "# doc2vec model save (based on konply tokenizer)\n",
    "cf_doc2vec_model.save('cf_doc2vec_model.model')"
   ]
  },
  {
   "cell_type": "code",
   "execution_count": 7,
   "metadata": {
    "collapsed": true
   },
   "outputs": [],
   "source": [
    "# doc2vec model load (based on konply tokenizer)\n",
    "cf_doc2vec_model = gensim.models.Doc2Vec.load('cf_doc2vec_model.model')"
   ]
  },
  {
   "cell_type": "markdown",
   "metadata": {},
   "source": [
    "## 3. Caculate distance\n",
    "- Using euclidean distance"
   ]
  },
  {
   "cell_type": "code",
   "execution_count": 8,
   "metadata": {
    "collapsed": true
   },
   "outputs": [],
   "source": [
    "\"\"\" euclidean distance \"\"\"\n",
    "def dist_cal(doc_model):\n",
    "    import scipy as sp \n",
    "    # make vector bag\n",
    "    doc_vecs = []\n",
    "    dists = []\n",
    "    id_list = []\n",
    "    eu_dist = sp.spatial.distance.euclidean\n",
    "    for i in cf_df['id']:\n",
    "        vec = doc_model.infer_vector('{number}'.format(number=i))\n",
    "        id_list.append(i)\n",
    "        doc_vecs.append(vec)\n",
    "    # caculate distance\n",
    "    for a, b in itertools.combinations(np.arange(len(doc_vecs)), 2):\n",
    "        dist = eu_dist(doc_vecs[a], doc_vecs[b])\n",
    "        dists.append((id_list[a], id_list[b], dist))\n",
    "    return dists"
   ]
  },
  {
   "cell_type": "code",
   "execution_count": 9,
   "metadata": {
    "collapsed": false
   },
   "outputs": [],
   "source": [
    "# distance calculation into dataframe\n",
    "token_df = pd.DataFrame(dist_cal(cf_doc2vec_model))"
   ]
  },
  {
   "cell_type": "markdown",
   "metadata": {},
   "source": [
    "## 4. Recommend projects"
   ]
  },
  {
   "cell_type": "code",
   "execution_count": 10,
   "metadata": {
    "collapsed": false
   },
   "outputs": [],
   "source": [
    "\"\"\"recommend project list\"\"\"\n",
    "def project_recommend(dist_df, number):\n",
    "    import pandas as pd\n",
    "    recommend_list = pd.DataFrame()\n",
    "    if number <= 2000:\n",
    "        recommend = dist_df.loc[dist_df[0] == number]\n",
    "        sorting = recommend.sort_values(by=[2], ascending = False)[:11]\n",
    "        sorting.index = np.arange(len(sorting))\n",
    "        sorting_df = sorting.drop([0], axis=1)\n",
    "        for i in sorting_df[1]:\n",
    "            pj = cf_df.loc[cf_df['id'] == i]\n",
    "            recommend_list = recommend_list.append(pj)\n",
    "        recommend_list.index = np.arange(len(recommend_list))\n",
    "        return recommend_list\n",
    "\n",
    "    else:\n",
    "        recommend = dist_df.loc[dist_df[1] == number]\n",
    "        sorting = recommend.sort_values(by=[2], ascending = False)[:11]\n",
    "        sorting.index = np.arange(len(sorting))\n",
    "        sorting_df = sorting.drop([1], axis=1)\n",
    "        for i in sorting_df[0]:\n",
    "            pj = cf_df.loc[cf_df['id'] == i]\n",
    "            recommend_list = recommend_list.append(pj)\n",
    "        recommend_list.index = np.arange(len(recommend_list))\n",
    "        return recommend_list"
   ]
  },
  {
   "cell_type": "markdown",
   "metadata": {},
   "source": [
    "- project_recommend(distance_dataframe, project_id)"
   ]
  },
  {
   "cell_type": "code",
   "execution_count": 11,
   "metadata": {
    "collapsed": false
   },
   "outputs": [
    {
     "data": {
      "text/plain": [
       "id                                                                 12\n",
       "blurb                               세상 단 한 사람을 위한 동화책. <사슴을 타고 온 아이.>\n",
       "title                                                     사슴을 타고 온 아이\n",
       "category                                                           동화\n",
       "end_with_success                                                 True\n",
       "has_video                                                       False\n",
       "permalink                                                 /dear_child\n",
       "description         \\n      저를 모르시는 모든 분들께 인사드릴까요. 김가경이라고 합니다.영화와 ...\n",
       "Name: 0, dtype: object"
      ]
     },
     "execution_count": 11,
     "metadata": {},
     "output_type": "execute_result"
    }
   ],
   "source": [
    "cf_df.ix[0]"
   ]
  },
  {
   "cell_type": "code",
   "execution_count": 14,
   "metadata": {
    "collapsed": false,
    "scrolled": false
   },
   "outputs": [
    {
     "data": {
      "text/html": [
       "<div>\n",
       "<table border=\"1\" class=\"dataframe\">\n",
       "  <thead>\n",
       "    <tr style=\"text-align: right;\">\n",
       "      <th></th>\n",
       "      <th>id</th>\n",
       "      <th>blurb</th>\n",
       "      <th>title</th>\n",
       "      <th>category</th>\n",
       "      <th>end_with_success</th>\n",
       "      <th>has_video</th>\n",
       "      <th>permalink</th>\n",
       "      <th>description</th>\n",
       "    </tr>\n",
       "  </thead>\n",
       "  <tbody>\n",
       "    <tr>\n",
       "      <th>0</th>\n",
       "      <td>2417</td>\n",
       "      <td>전방위.무정형.비연애인구 계간홀로입니다. 잊을 만하면 찾아오는 계간홀로는 당신의 미저리♥</td>\n",
       "      <td>비연애인구 전용잡지 '계간홀로' 6호 발간</td>\n",
       "      <td>출판</td>\n",
       "      <td>True</td>\n",
       "      <td>False</td>\n",
       "      <td>/quarterlyalone6</td>\n",
       "      <td>\\n\\n전방위. 무정형. 비연애인구 전용잡지 계간홀로가 돌아왔습니다. \\n홀로들의 ...</td>\n",
       "    </tr>\n",
       "    <tr>\n",
       "      <th>1</th>\n",
       "      <td>1942</td>\n",
       "      <td>개그공연 실루엣 전주편! 많은 분들께 웃음을 전해드리겠습니다!</td>\n",
       "      <td>전주 개그공연 실루엣</td>\n",
       "      <td>연극</td>\n",
       "      <td>False</td>\n",
       "      <td>False</td>\n",
       "      <td>/silhouettecrew</td>\n",
       "      <td>\\n안녕하세요 개그팀 실루엣 입니다!\\n저희는 5명의 개그맨 지망생(아직은)으로 이...</td>\n",
       "    </tr>\n",
       "    <tr>\n",
       "      <th>2</th>\n",
       "      <td>3766</td>\n",
       "      <td>밟혀 지나치는 것들을 코믹하게 풀어나가는 캐릭터 악세사리</td>\n",
       "      <td>짜부 (ZZABOO)</td>\n",
       "      <td>제품디자인</td>\n",
       "      <td>False</td>\n",
       "      <td>True</td>\n",
       "      <td>/zzaboo</td>\n",
       "      <td>\\n누구세요?\\n저희는 단편 애니메이션 제작소 날씨가게 입니다!!\\r\\n날씨가게의 ...</td>\n",
       "    </tr>\n",
       "    <tr>\n",
       "      <th>3</th>\n",
       "      <td>52</td>\n",
       "      <td>블랙 코미디 성인용 애니메이션. 따뜻한 가족애와 웃음, 풍자가 가득합니다.</td>\n",
       "      <td>Johnny Macarthy 파일럿 프로젝트</td>\n",
       "      <td>애니메이션</td>\n",
       "      <td>False</td>\n",
       "      <td>False</td>\n",
       "      <td>/johnny-macarthy</td>\n",
       "      <td>\\n블랙 코미디 애니메이션 Johnny Macarthy를 소개합니다.\\n\\n시놉시스...</td>\n",
       "    </tr>\n",
       "    <tr>\n",
       "      <th>4</th>\n",
       "      <td>4782</td>\n",
       "      <td>아이의 눈을 읽는, 어른의 마음을 담은 그림이 있는 그림가게 입니다.</td>\n",
       "      <td>그림가게의 이야기가 있는 포스터</td>\n",
       "      <td>미술</td>\n",
       "      <td>False</td>\n",
       "      <td>False</td>\n",
       "      <td>/geurimgage</td>\n",
       "      <td>\\n안녕하세요. 아이들의 눈을 읽는 그림,\\n어른의 마음을 담는 그림이 있는 그림가...</td>\n",
       "    </tr>\n",
       "    <tr>\n",
       "      <th>5</th>\n",
       "      <td>130</td>\n",
       "      <td>편견 없고 편식하지 않는, 복합예술매거진을 지향하는 \"ARTZINE\" 4호의 인쇄비...</td>\n",
       "      <td>아트진[ARTZINE] 4호 출간 프로젝트</td>\n",
       "      <td>저널리즘</td>\n",
       "      <td>True</td>\n",
       "      <td>False</td>\n",
       "      <td>/artzine</td>\n",
       "      <td>\\n여러분!!!!우선, 클릭해주셔서 진심으로 감사 드립니다.^^\\n 안녕하세요, 아...</td>\n",
       "    </tr>\n",
       "    <tr>\n",
       "      <th>6</th>\n",
       "      <td>4596</td>\n",
       "      <td>싱어송라이터 '이설아'가 첫번째 EP앨범을 통해 순간을 기록하려 합니다.      ...</td>\n",
       "      <td>나, 그리고 당신. 별이 내리는 길목에서</td>\n",
       "      <td>음악</td>\n",
       "      <td>False</td>\n",
       "      <td>False</td>\n",
       "      <td>/leesnowchild</td>\n",
       "      <td>\\nPhoto by FOUND magazine    \\n\\n나, 그리고 당신. \\r...</td>\n",
       "    </tr>\n",
       "    <tr>\n",
       "      <th>7</th>\n",
       "      <td>3420</td>\n",
       "      <td>단편영화 [스프전쟁]의 보충촬영 + 후반작업을 위한 여러분의 즐거움이 필요합니다!</td>\n",
       "      <td>단편영화 [스프전쟁]</td>\n",
       "      <td>단편영화</td>\n",
       "      <td>False</td>\n",
       "      <td>False</td>\n",
       "      <td>/soupwar</td>\n",
       "      <td>\\n· 개요 및 인사말\\n안녕하십니까, 저희는 단편영화 &lt;스프전쟁&gt;팀으로, 이번 작...</td>\n",
       "    </tr>\n",
       "    <tr>\n",
       "      <th>8</th>\n",
       "      <td>1802</td>\n",
       "      <td>유튜브 동영상 강의를 통한 한국어 수출 프로젝트</td>\n",
       "      <td>이지 코리안 - 동영상 강의로 한국어 수출하기</td>\n",
       "      <td>웹시리즈</td>\n",
       "      <td>False</td>\n",
       "      <td>True</td>\n",
       "      <td>/easykorean</td>\n",
       "      <td>\\n두유 노우 한국말?\\n한국인을 제외하고 세계인구의 0.079%만 할 줄 아는 한...</td>\n",
       "    </tr>\n",
       "    <tr>\n",
       "      <th>9</th>\n",
       "      <td>1667</td>\n",
       "      <td>마왕이 되기 위해 던전을 꾸미고 용사를 물리쳐라!\\r\\r\\n히어로 디텍티드의 확장판...</td>\n",
       "      <td>보드 게임 Hero Detected의 확장판 TIME TWIST!</td>\n",
       "      <td>보드게임</td>\n",
       "      <td>True</td>\n",
       "      <td>False</td>\n",
       "      <td>/hdtt</td>\n",
       "      <td>\\n진정한 마왕이 되기 위해 던전을 꾸미고 용사를 물리치는 보드게임\\r\\n히어로 디...</td>\n",
       "    </tr>\n",
       "    <tr>\n",
       "      <th>10</th>\n",
       "      <td>3427</td>\n",
       "      <td>기억 속 그리운 여행의 순간, 그 곳으로의 여행 _ 여행산문집 '이나윤에세이' 출판...</td>\n",
       "      <td>꽃다운스물일곱's 여행이야기 _ 오늘은,</td>\n",
       "      <td>출판</td>\n",
       "      <td>True</td>\n",
       "      <td>False</td>\n",
       "      <td>/glejri</td>\n",
       "      <td>\\n \\nº PROLOGUE.\\n\\n휴학생이었던 23살, 유럽배낭여행이라는 꿈을 위...</td>\n",
       "    </tr>\n",
       "  </tbody>\n",
       "</table>\n",
       "</div>"
      ],
      "text/plain": [
       "      id                                              blurb  \\\n",
       "0   2417  전방위.무정형.비연애인구 계간홀로입니다. 잊을 만하면 찾아오는 계간홀로는 당신의 미저리♥   \n",
       "1   1942                 개그공연 실루엣 전주편! 많은 분들께 웃음을 전해드리겠습니다!   \n",
       "2   3766                    밟혀 지나치는 것들을 코믹하게 풀어나가는 캐릭터 악세사리   \n",
       "3     52          블랙 코미디 성인용 애니메이션. 따뜻한 가족애와 웃음, 풍자가 가득합니다.   \n",
       "4   4782             아이의 눈을 읽는, 어른의 마음을 담은 그림이 있는 그림가게 입니다.   \n",
       "5    130  편견 없고 편식하지 않는, 복합예술매거진을 지향하는 \"ARTZINE\" 4호의 인쇄비...   \n",
       "6   4596  싱어송라이터 '이설아'가 첫번째 EP앨범을 통해 순간을 기록하려 합니다.      ...   \n",
       "7   3420      단편영화 [스프전쟁]의 보충촬영 + 후반작업을 위한 여러분의 즐거움이 필요합니다!   \n",
       "8   1802                         유튜브 동영상 강의를 통한 한국어 수출 프로젝트   \n",
       "9   1667  마왕이 되기 위해 던전을 꾸미고 용사를 물리쳐라!\\r\\r\\n히어로 디텍티드의 확장판...   \n",
       "10  3427  기억 속 그리운 여행의 순간, 그 곳으로의 여행 _ 여행산문집 '이나윤에세이' 출판...   \n",
       "\n",
       "                                   title category end_with_success has_video  \\\n",
       "0                비연애인구 전용잡지 '계간홀로' 6호 발간       출판             True     False   \n",
       "1                            전주 개그공연 실루엣       연극            False     False   \n",
       "2                            짜부 (ZZABOO)    제품디자인            False      True   \n",
       "3               Johnny Macarthy 파일럿 프로젝트    애니메이션            False     False   \n",
       "4                     그림가게의 이야기가 있는 포스터        미술            False     False   \n",
       "5                아트진[ARTZINE] 4호 출간 프로젝트     저널리즘             True     False   \n",
       "6                 나, 그리고 당신. 별이 내리는 길목에서       음악            False     False   \n",
       "7                           단편영화 [스프전쟁]      단편영화            False     False   \n",
       "8              이지 코리안 - 동영상 강의로 한국어 수출하기     웹시리즈            False      True   \n",
       "9   보드 게임 Hero Detected의 확장판 TIME TWIST!     보드게임             True     False   \n",
       "10                꽃다운스물일곱's 여행이야기 _ 오늘은,       출판             True     False   \n",
       "\n",
       "           permalink                                        description  \n",
       "0   /quarterlyalone6  \\n\\n전방위. 무정형. 비연애인구 전용잡지 계간홀로가 돌아왔습니다. \\n홀로들의 ...  \n",
       "1    /silhouettecrew  \\n안녕하세요 개그팀 실루엣 입니다!\\n저희는 5명의 개그맨 지망생(아직은)으로 이...  \n",
       "2            /zzaboo  \\n누구세요?\\n저희는 단편 애니메이션 제작소 날씨가게 입니다!!\\r\\n날씨가게의 ...  \n",
       "3   /johnny-macarthy  \\n블랙 코미디 애니메이션 Johnny Macarthy를 소개합니다.\\n\\n시놉시스...  \n",
       "4        /geurimgage  \\n안녕하세요. 아이들의 눈을 읽는 그림,\\n어른의 마음을 담는 그림이 있는 그림가...  \n",
       "5           /artzine  \\n여러분!!!!우선, 클릭해주셔서 진심으로 감사 드립니다.^^\\n 안녕하세요, 아...  \n",
       "6      /leesnowchild  \\nPhoto by FOUND magazine    \\n\\n나, 그리고 당신. \\r...  \n",
       "7           /soupwar  \\n· 개요 및 인사말\\n안녕하십니까, 저희는 단편영화 <스프전쟁>팀으로, 이번 작...  \n",
       "8        /easykorean  \\n두유 노우 한국말?\\n한국인을 제외하고 세계인구의 0.079%만 할 줄 아는 한...  \n",
       "9              /hdtt  \\n진정한 마왕이 되기 위해 던전을 꾸미고 용사를 물리치는 보드게임\\r\\n히어로 디...  \n",
       "10           /glejri  \\n \\nº PROLOGUE.\\n\\n휴학생이었던 23살, 유럽배낭여행이라는 꿈을 위...  "
      ]
     },
     "execution_count": 14,
     "metadata": {},
     "output_type": "execute_result"
    }
   ],
   "source": [
    "project_recommend(token_df, 12)"
   ]
  },
  {
   "cell_type": "code",
   "execution_count": null,
   "metadata": {
    "collapsed": true
   },
   "outputs": [],
   "source": []
  }
 ],
 "metadata": {
  "kernelspec": {
   "display_name": "Python 3",
   "language": "python",
   "name": "python3"
  },
  "language_info": {
   "codemirror_mode": {
    "name": "ipython",
    "version": 3
   },
   "file_extension": ".py",
   "mimetype": "text/x-python",
   "name": "python",
   "nbconvert_exporter": "python",
   "pygments_lexer": "ipython3",
   "version": "3.5.1"
  }
 },
 "nbformat": 4,
 "nbformat_minor": 0
}
