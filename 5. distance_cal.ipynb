{
 "cells": [
  {
   "cell_type": "code",
   "execution_count": 1,
   "metadata": {
    "collapsed": true
   },
   "outputs": [],
   "source": [
    "import itertools\n",
    "import operator\n",
    "from sklearn.feature_extraction.text import CountVectorizer\n",
    "from sklearn.metrics import pairwise_distances"
   ]
  },
  {
   "cell_type": "code",
   "execution_count": 2,
   "metadata": {
    "collapsed": false,
    "scrolled": true
   },
   "outputs": [
    {
     "name": "stdout",
     "output_type": "stream",
     "text": [
      " C 드라이브의 볼륨에는 이름이 없습니다.\n",
      " 볼륨 일련 번호: 2AA8-6EE5\n",
      "\n",
      " C:\\Users\\Sechang\\1. DataScience\\Project\\tumblebug 디렉터리\n",
      "\n",
      "2016-04-10  오후 08:54    <DIR>          .\n",
      "2016-04-10  오후 08:54    <DIR>          ..\n",
      "2016-04-10  오후 08:46    <DIR>          .ipynb_checkpoints\n",
      "2016-04-03  오후 02:33            36,140 01. tumblebug_crawling_pratice.ipynb\n",
      "2016-04-01  오후 10:13           165,735 01. tumblebug_project_crawling.ipynb\n",
      "2016-04-09  오후 04:14            32,846 01. tumblebug_user_crawling_1.ipynb\n",
      "2016-04-04  오전 11:40            32,936 01. tumblebug_user_crawling_2.ipynb\n",
      "2016-04-04  오전 11:40            32,820 01. tumblebug_user_crawling_3.ipynb\n",
      "2016-04-04  오전 11:40            33,761 01. tumblebug_user_crawling_4.ipynb\n",
      "2016-04-04  오후 02:07            85,623 01. tumblebug_user_crawling_5-Copy1.ipynb\n",
      "2016-04-04  오전 11:40            39,629 01. tumblebug_user_crawling_5.ipynb\n",
      "2016-04-04  오전 12:33            56,644 02. tumblebug_grammar_level.ipynb\n",
      "2016-04-01  오후 10:13             3,503 1. Crwadfunding crawling.ipynb\n",
      "2016-04-09  오후 04:58           538,992 3. EDA.ipynb\n",
      "2016-04-10  오후 06:09            77,293 4. Recommender.ipynb\n",
      "2016-04-01  오전 12:53            67,018 description_0331.csv\n",
      "2016-04-09  오후 03:32        12,060,437 description_all.csv\n",
      "2016-04-09  오후 03:39         5,477,333 description_all_1.xlsx\n",
      "2016-04-10  오전 01:44        42,631,394 des_word.model\n",
      "2016-04-10  오후 06:12       135,284,865 doc_model.model\n",
      "2016-04-09  오후 06:17           210,124 funding_type.csv\n",
      "2016-04-09  오후 06:19           169,424 funding_type.xlsx\n",
      "2016-04-10  오전 04:46             6,542 mykmeans.py\n",
      "2016-04-01  오전 12:53        14,220,492 sentence_0331.csv\n",
      "2016-03-31  오후 05:21         1,264,584 tb_0331.csv\n",
      "2016-04-09  오후 06:56         6,241,108 tb_des_df.xlsx\n",
      "2016-04-01  오전 01:38           595,962 tb_df_0401.csv\n",
      "2016-03-31  오후 04:18         2,399,985 tb_df_initial.csv\n",
      "2016-04-04  오전 01:17         2,732,533 tb_user_1.csv\n",
      "2016-04-04  오전 01:36         4,047,240 tb_user_2.csv\n",
      "2016-04-04  오전 01:35         3,975,336 tb_user_3.csv\n",
      "2016-04-04  오전 01:41         4,286,795 tb_user_4.csv\n",
      "2016-04-04  오전 02:55         9,035,914 tb_user_5.csv\n",
      "2016-04-04  오후 12:28        23,987,636 tb_user_all.csv\n",
      "2016-04-10  오후 08:54            12,389 Untitled-Copy1.ipynb\n",
      "2016-04-10  오후 08:33            32,220 Untitled.ipynb\n",
      "2016-04-10  오후 04:31    <DIR>          __pycache__\n",
      "              33개 파일         269,875,253 바이트\n",
      "               4개 디렉터리  244,711,452,672 바이트 남음\n"
     ]
    }
   ],
   "source": [
    "!dir"
   ]
  },
  {
   "cell_type": "code",
   "execution_count": 3,
   "metadata": {
    "collapsed": false
   },
   "outputs": [],
   "source": [
    "tb_df = pd.read_excel('tb_des_df.xlsx')"
   ]
  },
  {
   "cell_type": "code",
   "execution_count": 4,
   "metadata": {
    "collapsed": false,
    "scrolled": true
   },
   "outputs": [],
   "source": [
    "des_df = tb_df['description']"
   ]
  },
  {
   "cell_type": "code",
   "execution_count": 25,
   "metadata": {
    "collapsed": true
   },
   "outputs": [],
   "source": [
    "tb_users = pd.read_excel('tb_users_0410.xlsx')"
   ]
  },
  {
   "cell_type": "code",
   "execution_count": 6,
   "metadata": {
    "collapsed": false,
    "scrolled": true
   },
   "outputs": [],
   "source": [
    "des_df = pd.concat([tb_df['id'], tb_df.title, tb_df.category, des_df], axis=1)"
   ]
  },
  {
   "cell_type": "code",
   "execution_count": 7,
   "metadata": {
    "collapsed": false,
    "scrolled": true
   },
   "outputs": [
    {
     "data": {
      "text/html": [
       "<div>\n",
       "<table border=\"1\" class=\"dataframe\">\n",
       "  <thead>\n",
       "    <tr style=\"text-align: right;\">\n",
       "      <th></th>\n",
       "      <th>id</th>\n",
       "      <th>title</th>\n",
       "      <th>category</th>\n",
       "      <th>description</th>\n",
       "    </tr>\n",
       "  </thead>\n",
       "  <tbody>\n",
       "    <tr>\n",
       "      <th>0</th>\n",
       "      <td>12</td>\n",
       "      <td>사슴을 타고 온 아이</td>\n",
       "      <td>동화</td>\n",
       "      <td>\\n      저를 모르시는 모든 분들께 인사드릴까요. 김가경이라고 합니다.영화와 ...</td>\n",
       "    </tr>\n",
       "    <tr>\n",
       "      <th>1</th>\n",
       "      <td>16</td>\n",
       "      <td>LETStudent</td>\n",
       "      <td>공간디자인</td>\n",
       "      <td>\\n안녕하세요 국민대학교 시각디자인학과 4학년에 재학중인 김문규, 민준기 입니다. ...</td>\n",
       "    </tr>\n",
       "    <tr>\n",
       "      <th>2</th>\n",
       "      <td>21</td>\n",
       "      <td>Starting Up</td>\n",
       "      <td>다큐멘터리</td>\n",
       "      <td>\\n      안녕하십니까 국민대학교 시각디자인과 졸업반에 정원도입니다. 이번에 제...</td>\n",
       "    </tr>\n",
       "    <tr>\n",
       "      <th>3</th>\n",
       "      <td>22</td>\n",
       "      <td>전방위이종문화리뷰지 나불나불</td>\n",
       "      <td>저널리즘</td>\n",
       "      <td>\\nnabulnabul.com / twitter @nabulnabul\\n1. 반가워...</td>\n",
       "    </tr>\n",
       "    <tr>\n",
       "      <th>4</th>\n",
       "      <td>23</td>\n",
       "      <td>개똥벌레: 프로그래밍 가능한 자전거 후미등</td>\n",
       "      <td>하드웨어</td>\n",
       "      <td>\\n개똥벌레 소개개똥벌레는 소리로 빛의 세기를 조절하는 자전거 후미등 입니다. 자전...</td>\n",
       "    </tr>\n",
       "  </tbody>\n",
       "</table>\n",
       "</div>"
      ],
      "text/plain": [
       "   id                    title category  \\\n",
       "0  12              사슴을 타고 온 아이       동화   \n",
       "1  16               LETStudent    공간디자인   \n",
       "2  21              Starting Up    다큐멘터리   \n",
       "3  22          전방위이종문화리뷰지 나불나불     저널리즘   \n",
       "4  23  개똥벌레: 프로그래밍 가능한 자전거 후미등     하드웨어   \n",
       "\n",
       "                                         description  \n",
       "0  \\n      저를 모르시는 모든 분들께 인사드릴까요. 김가경이라고 합니다.영화와 ...  \n",
       "1  \\n안녕하세요 국민대학교 시각디자인학과 4학년에 재학중인 김문규, 민준기 입니다. ...  \n",
       "2  \\n      안녕하십니까 국민대학교 시각디자인과 졸업반에 정원도입니다. 이번에 제...  \n",
       "3  \\nnabulnabul.com / twitter @nabulnabul\\n1. 반가워...  \n",
       "4  \\n개똥벌레 소개개똥벌레는 소리로 빛의 세기를 조절하는 자전거 후미등 입니다. 자전...  "
      ]
     },
     "execution_count": 7,
     "metadata": {},
     "output_type": "execute_result"
    }
   ],
   "source": [
    "des_df.head()"
   ]
  },
  {
   "cell_type": "code",
   "execution_count": 8,
   "metadata": {
    "collapsed": true
   },
   "outputs": [],
   "source": [
    "import gensim"
   ]
  },
  {
   "cell_type": "code",
   "execution_count": 9,
   "metadata": {
    "collapsed": true
   },
   "outputs": [],
   "source": [
    "from sklearn.feature_extraction.text import CountVectorizer"
   ]
  },
  {
   "cell_type": "code",
   "execution_count": 10,
   "metadata": {
    "collapsed": true
   },
   "outputs": [],
   "source": [
    "analyze = CountVectorizer(analyzer=\"word\").build_analyzer()"
   ]
  },
  {
   "cell_type": "code",
   "execution_count": 11,
   "metadata": {
    "collapsed": true
   },
   "outputs": [],
   "source": [
    "sentences = []\n",
    "for i in des_df['description']:\n",
    "    words = analyze(i)\n",
    "    sentences.append(words)"
   ]
  },
  {
   "cell_type": "code",
   "execution_count": 12,
   "metadata": {
    "collapsed": false
   },
   "outputs": [],
   "source": [
    "text_all=[]\n",
    "for i in np.arange(len(sentences)):\n",
    "    text = gensim.models.doc2vec.LabeledSentence(words = sentences[i], tags = ['doc_{number}'.format(number=i)])\n",
    "    text_all.append(text)"
   ]
  },
  {
   "cell_type": "code",
   "execution_count": 13,
   "metadata": {
    "collapsed": false
   },
   "outputs": [
    {
     "name": "stdout",
     "output_type": "stream",
     "text": [
      "0\n",
      "1\n",
      "2\n",
      "3\n",
      "4\n",
      "5\n",
      "6\n",
      "7\n",
      "8\n",
      "9\n"
     ]
    }
   ],
   "source": [
    "model = gensim.models.Doc2Vec(alpha=0.025, min_alpha=0.025)  # use fixed learning rate\n",
    "model.build_vocab(text_all)\n",
    "for epoch in range(10):\n",
    "    model.train(text_all)\n",
    "    model.alpha -= 0.002  # decrease the learning rate\n",
    "    model.min_alpha = model.alpha  # fix the learning rate, no decay\n",
    "    print(epoch)"
   ]
  },
  {
   "cell_type": "code",
   "execution_count": 19,
   "metadata": {
    "collapsed": true
   },
   "outputs": [],
   "source": [
    "model.save('doc_vec.model')"
   ]
  },
  {
   "cell_type": "code",
   "execution_count": 15,
   "metadata": {
    "collapsed": false,
    "scrolled": true
   },
   "outputs": [],
   "source": [
    "# vector 담기\n",
    "doc_vecs = []\n",
    "for i in range(0, len(text_all)+1):\n",
    "    vec = model.infer_vector('doc_{number}'.format(number=i))\n",
    "    doc_vecs.append(vec)\n",
    "\n",
    "# 유클리드 거리 구하기\n",
    "dists = []\n",
    "eu_dist = sp.spatial.distance.euclidean\n",
    "for i, j in itertools.combinations(np.arange(len(doc_vecs)), 2):\n",
    "    dist = eu_dist(doc_vecs[i], doc_vecs[j])\n",
    "    dists.append((i, j, dist))"
   ]
  },
  {
   "cell_type": "code",
   "execution_count": 17,
   "metadata": {
    "collapsed": true
   },
   "outputs": [],
   "source": [
    "\"\"\"DataFrame에 넣기\"\"\"\n",
    "eu_distance_df = pd.DataFrame(dists, columns=['doc_number_1', 'doc_number_2', 'euclidean_distance'])"
   ]
  },
  {
   "cell_type": "code",
   "execution_count": 21,
   "metadata": {
    "collapsed": false
   },
   "outputs": [],
   "source": [
    "model.save('doc_vec.model')\n",
    "eu_distance_df.to_csv('doc_distance.csv')"
   ]
  },
  {
   "cell_type": "code",
   "execution_count": 18,
   "metadata": {
    "collapsed": false
   },
   "outputs": [
    {
     "data": {
      "text/plain": [
       "[0.026160143315792084,\n",
       " 0.026017207652330399,\n",
       " 0.025855647400021553,\n",
       " 0.025843935087323189,\n",
       " 0.025780284777283669,\n",
       " 0.025741815567016602,\n",
       " 0.025671036913990974,\n",
       " 0.025666665285825729,\n",
       " 0.025648092851042747,\n",
       " 0.025638898834586143]"
      ]
     },
     "execution_count": 18,
     "metadata": {},
     "output_type": "execute_result"
    }
   ],
   "source": [
    "sorted(eu_distance_df[eu_distance_df['doc_number_2'] == 1401]['euclidean_distance'], reverse=True)[:10]"
   ]
  },
  {
   "cell_type": "code",
   "execution_count": 22,
   "metadata": {
    "collapsed": false
   },
   "outputs": [
    {
     "data": {
      "text/plain": [
       "[0.027584536001086235,\n",
       " 0.027224572375416756,\n",
       " 0.027201918885111809,\n",
       " 0.027183499187231064,\n",
       " 0.027164442464709282,\n",
       " 0.027127301320433617,\n",
       " 0.027120063081383705,\n",
       " 0.027117909863591194,\n",
       " 0.027112174779176712,\n",
       " 0.02711009606719017]"
      ]
     },
     "execution_count": 22,
     "metadata": {},
     "output_type": "execute_result"
    }
   ],
   "source": [
    "sorted(eu_distance_df['euclidean_distance'], reverse=True)[:10]"
   ]
  },
  {
   "cell_type": "code",
   "execution_count": 23,
   "metadata": {
    "collapsed": false
   },
   "outputs": [
    {
     "data": {
      "text/plain": [
       "[0.019510423764586449,\n",
       " 0.019559178501367569,\n",
       " 0.019568115472793579,\n",
       " 0.019749943166971207,\n",
       " 0.019751684740185738,\n",
       " 0.019797086715698242,\n",
       " 0.019839359447360039,\n",
       " 0.01986008882522583,\n",
       " 0.019878407940268517,\n",
       " 0.01988535188138485]"
      ]
     },
     "execution_count": 23,
     "metadata": {},
     "output_type": "execute_result"
    }
   ],
   "source": [
    "sorted(eu_distance_df['euclidean_distance'], reverse=False)[:10]"
   ]
  },
  {
   "cell_type": "code",
   "execution_count": 39,
   "metadata": {
    "collapsed": false
   },
   "outputs": [],
   "source": [
    "user_grouped = tb_users.groupby('user')"
   ]
  },
  {
   "cell_type": "code",
   "execution_count": 40,
   "metadata": {
    "collapsed": false,
    "scrolled": true
   },
   "outputs": [
    {
     "data": {
      "text/html": [
       "<div>\n",
       "<table border=\"1\" class=\"dataframe\">\n",
       "  <thead>\n",
       "    <tr style=\"text-align: right;\">\n",
       "      <th></th>\n",
       "      <th>user</th>\n",
       "      <th>id</th>\n",
       "    </tr>\n",
       "  </thead>\n",
       "  <tbody>\n",
       "    <tr>\n",
       "      <th>71292</th>\n",
       "      <td>/u/usertoneruyosa</td>\n",
       "      <td>/project8-2</td>\n",
       "    </tr>\n",
       "    <tr>\n",
       "      <th>109066</th>\n",
       "      <td>/u/usertoneruyosa</td>\n",
       "      <td>/spff</td>\n",
       "    </tr>\n",
       "    <tr>\n",
       "      <th>110112</th>\n",
       "      <td>/u/usertoneruyosa</td>\n",
       "      <td>/lezhin_04_gongmyung2</td>\n",
       "    </tr>\n",
       "    <tr>\n",
       "      <th>113359</th>\n",
       "      <td>/u/usertoneruyosa</td>\n",
       "      <td>/beerguidebook</td>\n",
       "    </tr>\n",
       "    <tr>\n",
       "      <th>123141</th>\n",
       "      <td>/u/usertoneruyosa</td>\n",
       "      <td>/freedom_to_dream</td>\n",
       "    </tr>\n",
       "    <tr>\n",
       "      <th>130805</th>\n",
       "      <td>/u/usertoneruyosa</td>\n",
       "      <td>/singlelifeintokyo</td>\n",
       "    </tr>\n",
       "    <tr>\n",
       "      <th>145138</th>\n",
       "      <td>/u/usertoneruyosa</td>\n",
       "      <td>/dbd</td>\n",
       "    </tr>\n",
       "    <tr>\n",
       "      <th>151326</th>\n",
       "      <td>/u/usertoneruyosa</td>\n",
       "      <td>/peace</td>\n",
       "    </tr>\n",
       "  </tbody>\n",
       "</table>\n",
       "</div>"
      ],
      "text/plain": [
       "                     user                     id\n",
       "71292   /u/usertoneruyosa            /project8-2\n",
       "109066  /u/usertoneruyosa                  /spff\n",
       "110112  /u/usertoneruyosa  /lezhin_04_gongmyung2\n",
       "113359  /u/usertoneruyosa         /beerguidebook\n",
       "123141  /u/usertoneruyosa      /freedom_to_dream\n",
       "130805  /u/usertoneruyosa     /singlelifeintokyo\n",
       "145138  /u/usertoneruyosa                   /dbd\n",
       "151326  /u/usertoneruyosa                 /peace"
      ]
     },
     "execution_count": 40,
     "metadata": {},
     "output_type": "execute_result"
    }
   ],
   "source": [
    "user_grouped.get_group('/u/usertoneruyosa')"
   ]
  },
  {
   "cell_type": "code",
   "execution_count": 42,
   "metadata": {
    "collapsed": false
   },
   "outputs": [
    {
     "data": {
      "text/plain": [
       "109557"
      ]
     },
     "execution_count": 42,
     "metadata": {},
     "output_type": "execute_result"
    }
   ],
   "source": [
    "len(tb_users.user.value_counts())"
   ]
  },
  {
   "cell_type": "code",
   "execution_count": 44,
   "metadata": {
    "collapsed": false
   },
   "outputs": [
    {
     "data": {
      "text/plain": [
       "109557"
      ]
     },
     "execution_count": 44,
     "metadata": {},
     "output_type": "execute_result"
    }
   ],
   "source": [
    "len(tb_users.user.unique())"
   ]
  },
  {
   "cell_type": "code",
   "execution_count": 59,
   "metadata": {
    "collapsed": true
   },
   "outputs": [],
   "source": []
  },
  {
   "cell_type": "code",
   "execution_count": 61,
   "metadata": {
    "collapsed": false,
    "scrolled": true
   },
   "outputs": [
    {
     "name": "stdout",
     "output_type": "stream",
     "text": [
      "9.1e+02s\n"
     ]
    }
   ],
   "source": [
    "import time\n",
    "start = time.clock()\n",
    "\n",
    "a = pd.DataFrame()\n",
    "for i in tb_users.user.unique():\n",
    "    user = user_grouped.get_group(i)\n",
    "    a = a.append(user)\n",
    "\n",
    "end = time.clock()\n",
    "print (\"%.2gs\" % (end-start))"
   ]
  },
  {
   "cell_type": "code",
   "execution_count": 53,
   "metadata": {
    "collapsed": false
   },
   "outputs": [
    {
     "data": {
      "text/plain": [
       "169292"
      ]
     },
     "execution_count": 53,
     "metadata": {},
     "output_type": "execute_result"
    }
   ],
   "source": [
    "len(tb_users)"
   ]
  },
  {
   "cell_type": "code",
   "execution_count": 65,
   "metadata": {
    "collapsed": false
   },
   "outputs": [],
   "source": [
    "tb_user_gr = a.copy()"
   ]
  },
  {
   "cell_type": "code",
   "execution_count": 117,
   "metadata": {
    "collapsed": true
   },
   "outputs": [],
   "source": [
    "tb_user_gr.index = np.arange(len(tb_user_gr))"
   ]
  },
  {
   "cell_type": "code",
   "execution_count": 125,
   "metadata": {
    "collapsed": false
   },
   "outputs": [
    {
     "data": {
      "text/plain": [
       "Index(['doc_number_1', 'doc_number_2', 'euclidean_distance'], dtype='object')"
      ]
     },
     "execution_count": 125,
     "metadata": {},
     "output_type": "execute_result"
    }
   ],
   "source": [
    "eu_distance_df.columns"
   ]
  },
  {
   "cell_type": "code",
   "execution_count": 134,
   "metadata": {
    "collapsed": false,
    "scrolled": true
   },
   "outputs": [
    {
     "data": {
      "text/plain": [
       "[0.026724549010396004,\n",
       " 0.026436978951096535,\n",
       " 0.02635437436401844,\n",
       " 0.026195500046014786,\n",
       " 0.026192314922809601,\n",
       " 0.026188962161540985,\n",
       " 0.02613234706223011,\n",
       " 0.026128513738512993,\n",
       " 0.026127943769097328,\n",
       " 0.026085758581757545]"
      ]
     },
     "execution_count": 134,
     "metadata": {},
     "output_type": "execute_result"
    }
   ],
   "source": [
    "sorted(eu_distance_df.loc[eu_distance_df['doc_number_1'] == 1121]['euclidean_distance'], reverse=True)[:10]"
   ]
  },
  {
   "cell_type": "code",
   "execution_count": 141,
   "metadata": {
    "collapsed": false
   },
   "outputs": [
    {
     "data": {
      "text/plain": [
       "2802"
      ]
     },
     "execution_count": 141,
     "metadata": {},
     "output_type": "execute_result"
    }
   ],
   "source": [
    "len(tb_df)"
   ]
  },
  {
   "cell_type": "code",
   "execution_count": 190,
   "metadata": {
    "collapsed": false,
    "scrolled": true
   },
   "outputs": [],
   "source": [
    "def project_recommend(number):\n",
    "    project = []\n",
    "    titles = []\n",
    "    categories = []\n",
    "    if number <= 1401:\n",
    "        dist = sorted(eu_distance_df.loc[eu_distance_df['doc_number_1'] == number]['euclidean_distance'], reverse=True)[:11];\n",
    "        for i in dist:\n",
    "            project_number = eu_distance_df.loc[eu_distance_df['euclidean_distance'] == i]['doc_number_2'];\n",
    "            project.append(project_number);\n",
    "    else:\n",
    "        dist = sorted(eu_distance_df.loc[eu_distance_df['doc_number_2'] == number]['euclidean_distance'], reverse=True)[:11];\n",
    "        for i in dist:\n",
    "            project_number = eu_distance_df.loc[eu_distance_df['euclidean_distance'] == i]['doc_number_1'];\n",
    "            project.append(project_number);\n",
    "    for j in project:\n",
    "        title = tb_df.ix[j]['title'];\n",
    "        category = tb_df.ix[j]['category'];\n",
    "        titles.append(title);\n",
    "        categories.append(category)\n",
    "    return ([titles], [categories])"
   ]
  },
  {
   "cell_type": "code",
   "execution_count": 198,
   "metadata": {
    "collapsed": false
   },
   "outputs": [
    {
     "data": {
      "text/plain": [
       "([[1950    2015 신진연출가전 - 고독의 기원\n",
       "   Name: title, dtype: object, 1971    심신기능활성 실천아카이브\n",
       "   Name: title, dtype: object, 1614                     패션매거진「CUSZZ」창간호\n",
       "   2028    한포먼스의 첫 프로젝트 공연 <나드리 : 나를 보여드리다>\n",
       "   Name: title, dtype: object, 1209    해적X지도\n",
       "   Name: title, dtype: object, 530    네거티브 칸나 27 - 2\n",
       "   Name: title, dtype: object, 1142    드로잉 액션게임 '리틀스타'\n",
       "   Name: title, dtype: object, 267        ME&YOU&EVERYONE WE HATE\n",
       "   2274    연극 <외계인들 The Aliens> @국립극단\n",
       "   Name: title, dtype: object, 444    성북동 일기\n",
       "   Name: title, dtype: object, 600     제주도에서 록 페스티벌을! JET Fest\n",
       "   2398          I.love.you.cookie\n",
       "   Name: title, dtype: object, 2188    21세기 현자들을 위한 성性서, <춘화첩>\n",
       "   Name: title, dtype: object, 1396         CIRCLINK - 새로운 모바일 리듬게임\n",
       "   2415    독립운동가들을 기억하는 '27590:독립운동판결문'\n",
       "   Name: title, dtype: object]], [[1950    연극\n",
       "   Name: category, dtype: object, 1971    출판\n",
       "   Name: category, dtype: object, 1614    출판\n",
       "   2028    음악\n",
       "   Name: category, dtype: object, 1209    보드게임\n",
       "   Name: category, dtype: object, 530    웹툰\n",
       "   Name: category, dtype: object, 1142    게임\n",
       "   Name: category, dtype: object, 267     출판\n",
       "   2274    연극\n",
       "   Name: category, dtype: object, 444    다큐멘터리\n",
       "   Name: category, dtype: object, 600     음악\n",
       "   2398    요리\n",
       "   Name: category, dtype: object, 2188    아트북\n",
       "   Name: category, dtype: object, 1396       게임\n",
       "   2415    시각디자인\n",
       "   Name: category, dtype: object]])"
      ]
     },
     "execution_count": 198,
     "metadata": {},
     "output_type": "execute_result"
    }
   ],
   "source": [
    "project_recommend(2500)"
   ]
  },
  {
   "cell_type": "code",
   "execution_count": 199,
   "metadata": {
    "collapsed": true
   },
   "outputs": [],
   "source": [
    "d = sorted(eu_distance_df.loc[eu_distance_df['doc_number_1'] == 1121]['euclidean_distance'], reverse=True)[:10]"
   ]
  },
  {
   "cell_type": "code",
   "execution_count": 218,
   "metadata": {
    "collapsed": false,
    "scrolled": true
   },
   "outputs": [
    {
     "data": {
      "text/plain": [
       "267.24549010396004"
      ]
     },
     "execution_count": 218,
     "metadata": {},
     "output_type": "execute_result"
    }
   ],
   "source": [
    "d[0]*10000"
   ]
  },
  {
   "cell_type": "code",
   "execution_count": 216,
   "metadata": {
    "collapsed": false
   },
   "outputs": [
    {
     "data": {
      "text/plain": [
       "260.85758581757545"
      ]
     },
     "execution_count": 216,
     "metadata": {},
     "output_type": "execute_result"
    }
   ],
   "source": [
    "d[9]*10000"
   ]
  },
  {
   "cell_type": "code",
   "execution_count": null,
   "metadata": {
    "collapsed": true
   },
   "outputs": [],
   "source": []
  }
 ],
 "metadata": {
  "kernelspec": {
   "display_name": "Python 3",
   "language": "python",
   "name": "python3"
  },
  "language_info": {
   "codemirror_mode": {
    "name": "ipython",
    "version": 3
   },
   "file_extension": ".py",
   "mimetype": "text/x-python",
   "name": "python",
   "nbconvert_exporter": "python",
   "pygments_lexer": "ipython3",
   "version": "3.5.1"
  }
 },
 "nbformat": 4,
 "nbformat_minor": 0
}
